{
 "nbformat": 4,
 "nbformat_minor": 2,
 "metadata": {
  "language_info": {
   "name": "python",
   "codemirror_mode": {
    "name": "ipython",
    "version": 3
   },
   "version": "3.8.2-final"
  },
  "orig_nbformat": 2,
  "file_extension": ".py",
  "mimetype": "text/x-python",
  "name": "python",
  "npconvert_exporter": "python",
  "pygments_lexer": "ipython3",
  "version": 3,
  "kernelspec": {
   "name": "python38164bit2a65d6dca7c04f2998e8b9e64065f5c5",
   "display_name": "Python 3.8.1 64-bit"
  }
 },
 "cells": [
  {
   "cell_type": "code",
   "execution_count": 5,
   "metadata": {},
   "outputs": [],
   "source": [
    "import datetime\n",
    "import json\n",
    "import os\n",
    "import requests\n",
    "import datetime\n",
    "\n",
    "# replace with '<YOUR-DARKSKY_API-KEY>'\n",
    "DARKSKY_API_KEY = '4eb053f74d7f5f150083e339c7cb325c'\n",
    "\n",
    "boroughs_dict = {\"usaquen\": \"4.719722,-74.036667\",\"chapinero\": \"4.645833,-74.063333\",\"santafe\": \"4.613889,-74.078611\",\n",
    "\"sancristobal\": \"4.564722,-74.083333\",\"usme\": \"4.446389,-74.152222\",\"tunjuelito\": \"4.582222,-74.131944\",\n",
    "\"bosa\": \"4.616944,-74.19\",\"kennedy\": \"4.643611,-74.153333\",\"fontibon\": \"4.678611,-74.141111\",\n",
    "\"engativa\": \"4.726111,-74.1\",\"suba\": \"4.741,-74.084\",\"barriosunidos\": \"4.678611,-74.078611\",\n",
    "\"teusaquillo\": \"4.670556,-74.093056\",\"losmartires\": \"4.604444,-74.09\",\"antonionariño\": \"4.591655,-74.106505\",\n",
    "\"puentearanda\": \"4.6125,-74.106667\",\"lacandelaria\": \"4.591722,-74.074131\",\"rafaeluribe\": \"4.579722,-74.1175\",\n",
    "\"ciudadbolivar\": \"4.536111,-74.138889\",\"sumapaz\": \"4.26,-74.178333\"}\n",
    "\n",
    "coordinates_list = list(boroughs_dict.values())"
   ]
  },
  {
   "cell_type": "code",
   "execution_count": 2,
   "metadata": {},
   "outputs": [],
   "source": [
    "data_folder = '../data/darksky/data'\n",
    "if not os.path.isdir(data_folder):\n",
    "    os.makedirs(data_folder)"
   ]
  },
  {
   "cell_type": "code",
   "execution_count": 20,
   "metadata": {},
   "outputs": [],
   "source": [
    "def date_range(start:datetime.date, end:datetime.date):\n",
    "    r = (end+datetime.timedelta(days=1)-start).days\n",
    "    return [str(start+datetime.timedelta(days=i)) + \"T00:00:00Z\" for i in range(r)]\n",
    "start = datetime.date(2020,4,13)\n",
    "end = datetime.date(2020,4,17)\n",
    "date_list = date_range(start, end)"
   ]
  },
  {
   "cell_type": "code",
   "execution_count": 56,
   "metadata": {},
   "outputs": [],
   "source": [
    "# Generate the URL\n",
    "def generate_url(coordinates:str, timestamp:str):\n",
    "    url = f\"https://api.darksky.net/forecast/{DARKSKY_API_KEY}/{coordinates},{timestamp}?units=si&exclude=flags,alerts\"\n",
    "    return url\n",
    "\n",
    "test_url = generate_url(coordinates_list[0],date_list[0])"
   ]
  },
  {
   "cell_type": "code",
   "execution_count": 57,
   "metadata": {},
   "outputs": [],
   "source": [
    "def fetch_request(url:str):\n",
    "    response = requests.get(url)\n",
    "    weather_data = response.json()\n",
    "    return weather_data"
   ]
  },
  {
   "cell_type": "code",
   "execution_count": 58,
   "metadata": {},
   "outputs": [],
   "source": [
    "def save_json(weather_json):\n",
    "    current_datetime = datetime.datetime.fromtimestamp(weather_json['currently']['time']).strftime('%Y_%m_%d')\n",
    "    filename = os.path.join(data_folder, f'weather_{current_datetime}.json')\n",
    "    with open(filename, 'w+') as f:\n",
    "        f.write(json.dumps(weather_json))"
   ]
  },
  {
   "cell_type": "code",
   "execution_count": 59,
   "metadata": {},
   "outputs": [],
   "source": [
    "save_json(fetch_request(test_url))"
   ]
  },
  {
   "cell_type": "code",
   "execution_count": 71,
   "metadata": {},
   "outputs": [],
   "source": [
    "import datetime\n",
    "import json\n",
    "import pandas as pd\n",
    "import glob\n",
    "\n",
    "def save_data_to_csv():\n",
    "    df = pd.DataFrame()\n",
    "    for json_file in glob.glob( data_folder + '/*.json'):\n",
    "        filename = os.path.basename(json_file).split('.')[0] + '.csv'\n",
    "        with open(json_file) as f:\n",
    "            data = json.load(f)\n",
    "        df_file = pd.DataFrame(data['hourly']['data'])\n",
    "        # Convert time into a proper datetime object\n",
    "        df = df.append(df_file)\n",
    "        df['time'] = pd.to_datetime(df['time'], unit='s')\n",
    "\n",
    "        output_folder_name = '/..data/darksky/output_data'\n",
    "        if not os.path.isdir(output_folder_name):\n",
    "            os.makedirs(output_folder_name)\n",
    "        filename = os.path.join(output_folder_name, filename)\n",
    "        df.to_csv(filename, index=False)"
   ]
  },
  {
   "cell_type": "code",
   "execution_count": 72,
   "metadata": {},
   "outputs": [],
   "source": [
    "save_data_to_csv()"
   ]
  }
 ]
}